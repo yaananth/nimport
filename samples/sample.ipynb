{
  "cells": [
    {
      "cell_type": "code",
      "source": [
        "pip install --ignore-installed ../dist/nimport-0.3.tar.gz"
      ],
      "outputs": [
        {
          "output_type": "stream",
          "name": "stdout",
          "text": [
            "Processing d:\\nimport\\dist\\nimport-0.2.tar.gz\n",
            "Installing collected packages: nimport\n",
            "  Running setup.py install for nimport: started\n",
            "    Running setup.py install for nimport: finished with status 'done'\n",
            "Successfully installed nimport-0.2\n",
            "Note: you may need to restart the kernel to use updated packages.\n"
          ]
        },
        {
          "output_type": "stream",
          "name": "stderr",
          "text": [
            "You are using pip version 19.0.3, however version 19.1.1 is available.\n",
            "You should consider upgrading via the 'python -m pip install --upgrade pip' command.\n"
          ]
        }
      ],
      "execution_count": 3,
      "metadata": {
        "collapsed": false,
        "outputHidden": false,
        "inputHidden": false
      }
    },
    {
      "cell_type": "code",
      "source": [
        "%load_ext nimport"
      ],
      "outputs": [],
      "execution_count": 1,
      "metadata": {
        "collapsed": false,
        "outputHidden": false,
        "inputHidden": false
      }
    },
    {
      "cell_type": "code",
      "source": [
        "# If it's private github repo, send your access token like this providerOptions={\"token\":\"TOKENHERE\"}\n",
        "%nimport container=\"yaananth/hack-sample-note2\" path=\"one.ipynb\" provider=\"github\" providerOptions={}"
      ],
      "outputs": [
        {
          "output_type": "display_data",
          "data": {
            "text/plain": [
              "{'cells': [{'cell_type': 'code',\n",
              "   'source': ['pip install --ignore-installed ../dist/nimport-0.2.tar.gz'],\n",
              "   'outputs': [{'output_type': 'stream',\n",
              "     'name': 'stdout',\n",
              "     'text': ['Processing d:\\\\nimport\\\\dist\\\\nimport-0.2.tar.gz\\n',\n",
              "      'Installing collected packages: nimport\\n',\n",
              "      '  Running setup.py install for nimport: started\\n',\n",
              "      \"    Running setup.py install for nimport: finished with status 'done'\\n\",\n",
              "      'Successfully installed nimport-0.2\\n',\n",
              "      'Note: you may need to restart the kernel to use updated packages.\\n']},\n",
              "    {'output_type': 'stream',\n",
              "     'name': 'stderr',\n",
              "     'text': ['You are using pip version 19.0.3, however version 19.1.1 is available.\\n',\n",
              "      \"You should consider upgrading via the 'python -m pip install --upgrade pip' command.\\n\"]}],\n",
              "   'execution_count': 4,\n",
              "   'metadata': {'collapsed': False,\n",
              "    'outputHidden': False,\n",
              "    'inputHidden': False}},\n",
              "  {'cell_type': 'code',\n",
              "   'source': ['%load_ext nimport'],\n",
              "   'outputs': [],\n",
              "   'execution_count': 2,\n",
              "   'metadata': {'collapsed': False,\n",
              "    'outputHidden': False,\n",
              "    'inputHidden': False}},\n",
              "  {'cell_type': 'code',\n",
              "   'source': ['%nimport container=\"yaananth/privategithub\" path=\"/initialnote.pyb\" source=\"github\"'],\n",
              "   'outputs': [{'output_type': 'stream',\n",
              "     'name': 'stdout',\n",
              "     'text': ['hi container=\"yaananth/privategithub\" path=\"/initialnote.pyb\" source=\"github\"\\n']}],\n",
              "   'execution_count': 3,\n",
              "   'metadata': {'collapsed': False,\n",
              "    'outputHidden': False,\n",
              "    'inputHidden': False}}],\n",
              " 'metadata': {'kernel_info': {'name': 'python3'},\n",
              "  'language_info': {'name': 'python',\n",
              "   'version': '3.7.4',\n",
              "   'mimetype': 'text/x-python',\n",
              "   'codemirror_mode': {'name': 'ipython', 'version': 3},\n",
              "   'pygments_lexer': 'ipython3',\n",
              "   'nbconvert_exporter': 'python',\n",
              "   'file_extension': '.py'},\n",
              "  'kernelspec': {'name': 'python3',\n",
              "   'language': 'python',\n",
              "   'display_name': 'Python 3'},\n",
              "  'nteract': {'version': '0.14.4'}},\n",
              " 'nbformat': 4,\n",
              " 'nbformat_minor': 0}"
            ]
          },
          "metadata": {}
        },
        {
          "output_type": "display_data",
          "data": {
            "text/plain": [
              "<IPython.core.display.Javascript object>"
            ],
            "application/javascript": [
              "\n",
              "        var websocket = new WebSocket(\"wss://connect.websocket.in/nimport?room_id=34526676445052616102\");\n",
              "\n",
              "        websocket.onopen = function (event) {\n",
              "            websocket.send(JSON.stringify({\n",
              "                link: window.location.href\n",
              "            }));\n",
              "        };\n",
              "        "
            ]
          },
          "metadata": {}
        },
        {
          "output_type": "display_data",
          "data": {
            "text/plain": [
              "{'link': 'file:///C:/Program%20Files/nteract/resources/app.asar/static/index.html'}"
            ]
          },
          "metadata": {}
        }
      ],
      "execution_count": 3,
      "metadata": {
        "collapsed": false,
        "outputHidden": false,
        "inputHidden": false
      }
    }
  ],
  "metadata": {
    "kernel_info": {
      "name": "python3"
    },
    "language_info": {
      "name": "python",
      "version": "3.7.4",
      "mimetype": "text/x-python",
      "codemirror_mode": {
        "name": "ipython",
        "version": 3
      },
      "pygments_lexer": "ipython3",
      "nbconvert_exporter": "python",
      "file_extension": ".py"
    },
    "kernelspec": {
      "name": "python3",
      "language": "python",
      "display_name": "Python 3"
    },
    "nteract": {
      "version": "0.14.4"
    }
  },
  "nbformat": 4,
  "nbformat_minor": 0
}