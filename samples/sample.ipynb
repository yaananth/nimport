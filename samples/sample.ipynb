{
  "cells": [
    {
      "cell_type": "code",
      "source": [
        "pip install --ignore-installed ../dist/nimport-0.9.5.tar.gz"
      ],
      "outputs": [
        {
          "output_type": "stream",
          "name": "stdout",
          "text": [
            "Processing d:\\nimport\\dist\\nimport-0.9.5.tar.gz\n",
            "Installing collected packages: nimport\n",
            "  Running setup.py install for nimport: started\n",
            "    Running setup.py install for nimport: finished with status 'done'\n",
            "Successfully installed nimport-0.9.5\n",
            "Note: you may need to restart the kernel to use updated packages.\n"
          ]
        },
        {
          "output_type": "stream",
          "name": "stderr",
          "text": [
            "You are using pip version 19.0.3, however version 19.1.1 is available.\n",
            "You should consider upgrading via the 'python -m pip install --upgrade pip' command.\n"
          ]
        }
      ],
      "execution_count": 3,
      "metadata": {
        "collapsed": false,
        "outputHidden": false,
        "inputHidden": false
      }
    },
    {
      "cell_type": "code",
      "source": [
        "%load_ext nimport"
      ],
      "outputs": [],
      "execution_count": 1,
      "metadata": {
        "collapsed": false,
        "outputHidden": false,
        "inputHidden": false
      }
    },
    {
      "cell_type": "code",
      "source": [
        "# If it's private github repo, send your access token like this providerOptions={\"token\":\"TOKENHERE\"}\n",
        "%nimport container=\"yaananth/hack-sample-note2\" path=\"one.ipynb\" provider=\"github\" providerOptions={\"clone\":\"true\"} navigate=\"true\""
      ],
      "outputs": [
        {
          "output_type": "display_data",
          "data": {
            "text/plain": [
              "'container=\"yaananth/hack-sample-note2\" path=\"one.ipynb\" provider=\"github\" providerOptions={\"clone\":\"true\"} navigate=\"true\"'"
            ]
          },
          "metadata": {}
        },
        {
          "output_type": "display_data",
          "data": {
            "text/plain": [
              "'rm -rf hack-sample-note2'"
            ]
          },
          "metadata": {}
        },
        {
          "output_type": "display_data",
          "data": {
            "text/plain": [
              "'git clone --depth=1 https://github.com/yaananth/hack-sample-note2.git'"
            ]
          },
          "metadata": {}
        },
        {
          "output_type": "display_data",
          "data": {
            "text/plain": [
              "'Trying to get the current link...'"
            ]
          },
          "metadata": {}
        },
        {
          "output_type": "display_data",
          "data": {
            "text/plain": [
              "<IPython.core.display.Javascript object>"
            ],
            "application/javascript": [
              "\n",
              "        var websocket = new WebSocket(\"wss://connect.websocket.in/nimport?room_id=28102870143819214567\");\n",
              "\n",
              "        websocket.onopen = function (event) {\n",
              "            websocket.send(JSON.stringify({\n",
              "                url: window.location.href\n",
              "            }));\n",
              "        };\n",
              "        "
            ]
          },
          "metadata": {}
        },
        {
          "output_type": "display_data",
          "data": {
            "text/plain": [
              "'Got link...making final adjustments'"
            ]
          },
          "metadata": {}
        },
        {
          "output_type": "display_data",
          "data": {
            "text/plain": [
              "{'container': 'yaananth/hack-sample-note2',\n",
              " 'path': 'one.ipynb',\n",
              " 'provider': 'github',\n",
              " 'providerOptions': {'clone': 'true'},\n",
              " 'navigate': 'true'}"
            ]
          },
          "metadata": {}
        },
        {
          "output_type": "display_data",
          "data": {
            "text/plain": [
              "<IPython.core.display.Javascript object>"
            ],
            "application/javascript": [
              "\n",
              "        if (window) {\n",
              "            window.location.href = \"file:///C:/Program%20Files/nteract/resources/app.asar/static/hack-sample-note2/one.ipynb\"\n",
              "        }\n",
              "        "
            ]
          },
          "metadata": {}
        }
      ],
      "execution_count": 2,
      "metadata": {
        "collapsed": false,
        "outputHidden": false,
        "inputHidden": false
      }
    }
  ],
  "metadata": {
    "kernel_info": {
      "name": "python3"
    },
    "language_info": {
      "name": "python",
      "version": "3.7.4",
      "mimetype": "text/x-python",
      "codemirror_mode": {
        "name": "ipython",
        "version": 3
      },
      "pygments_lexer": "ipython3",
      "nbconvert_exporter": "python",
      "file_extension": ".py"
    },
    "kernelspec": {
      "name": "python3",
      "language": "python",
      "display_name": "Python 3"
    },
    "nteract": {
      "version": "0.14.4"
    }
  },
  "nbformat": 4,
  "nbformat_minor": 0
}